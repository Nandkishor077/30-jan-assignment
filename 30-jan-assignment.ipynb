{
 "cells": [
  {
   "cell_type": "raw",
   "id": "3dc7375f-c9f9-49c0-ba6c-a6e1a6a06578",
   "metadata": {},
   "source": [
    "Q.1 WAP accept  percentage and calculate grade "
   ]
  },
  {
   "cell_type": "code",
   "execution_count": 4,
   "id": "86005c9e-2696-44ba-81fe-6853323f32a0",
   "metadata": {},
   "outputs": [
    {
     "name": "stdin",
     "output_type": "stream",
     "text": [
      "enter your overall percentage: 40\n"
     ]
    },
    {
     "name": "stdout",
     "output_type": "stream",
     "text": [
      "your Grade is D\n"
     ]
    }
   ],
   "source": [
    "percentage =int(input(\"enter your overall percentage:\"))\n",
    "if percentage >90:\n",
    "    grade='A'\n",
    "elif percentage >80:\n",
    "    grade='B'\n",
    "elif percentage >=60:\n",
    "    grade='C'\n",
    "else :\n",
    "    grade='D'\n",
    "\n",
    "print(\"your Grade is\", grade)\n",
    " \n",
    "\n"
   ]
  },
  {
   "cell_type": "raw",
   "id": "0746f158-c794-490b-b928-31035a1f7e46",
   "metadata": {},
   "source": [
    "Q.2 WAP for cost price of bike and calculate road tax"
   ]
  },
  {
   "cell_type": "code",
   "execution_count": 8,
   "id": "599b3343-a38f-4758-8fa2-4e61f30e0745",
   "metadata": {},
   "outputs": [
    {
     "name": "stdin",
     "output_type": "stream",
     "text": [
      "enter cost price of your bike 100000\n"
     ]
    },
    {
     "name": "stdout",
     "output_type": "stream",
     "text": [
      "the Road Tax on your bike is  10000.0\n"
     ]
    }
   ],
   "source": [
    "costprice= int(input(\"enter cost price of your bike\"))\n",
    "if costprice >100000:\n",
    "    tax= float(costprice*15/100)\n",
    "elif costprice >50000:\n",
    "    tax= float(costprice*10/100)\n",
    "else :\n",
    "    tax= float(costprice*5/100)\n",
    "print(\"the Road Tax on your bike is \", tax)"
   ]
  },
  {
   "cell_type": "raw",
   "id": "5c53c3ab-553c-4b7d-9e7e-d0e6d17909a4",
   "metadata": {},
   "source": [
    "Q.3 Accept city and display monuments"
   ]
  },
  {
   "cell_type": "code",
   "execution_count": 11,
   "id": "a1bccae8-f4bb-4d45-81b2-d0b410cf4302",
   "metadata": {},
   "outputs": [
    {
     "name": "stdin",
     "output_type": "stream",
     "text": [
      "enter your city Delhi, Agra or jaipur jaipur\n"
     ]
    },
    {
     "name": "stdout",
     "output_type": "stream",
     "text": [
      "Jal Mahal\n"
     ]
    }
   ],
   "source": [
    "city=  input(\"enter your city Delhi, Agra or jaipur\")\n",
    "if city.upper()==\"DELHI\":\n",
    "    print(\"Red Fort\")\n",
    "elif city.upper()==\"AGRA\":\n",
    "    print(\"Taj Mahal\")\n",
    "else :\n",
    "    print(\"Jal Mahal\")"
   ]
  },
  {
   "cell_type": "raw",
   "id": "48e41b96-1f4f-481f-8061-354f29d5a2ac",
   "metadata": {},
   "source": [
    "Q.4 Check how many times a given number can be divided by 3 before it is less than or equal to 10"
   ]
  },
  {
   "cell_type": "code",
   "execution_count": 15,
   "id": "b5adba7a-605b-47f8-b4d1-44a7ce836ee0",
   "metadata": {},
   "outputs": [
    {
     "name": "stdin",
     "output_type": "stream",
     "text": [
      "input an integer number 900\n"
     ]
    },
    {
     "name": "stdout",
     "output_type": "stream",
     "text": [
      "total iteration is : 5\n"
     ]
    }
   ],
   "source": [
    "count=0\n",
    "num= int(input(\"input an integer number\"))\n",
    "while num>=10:\n",
    "    num= num/3\n",
    "    count= count+1\n",
    "print(\"total iteration is :\", count)"
   ]
  },
  {
   "cell_type": "raw",
   "id": "b1b3a845-f0f0-42f2-9637-0ded5d22c8ec",
   "metadata": {},
   "source": [
    "Q.5 Why and when to use while loop give example"
   ]
  },
  {
   "cell_type": "raw",
   "id": "b9bfb233-4c36-4385-b50f-fa6ec4bd02a3",
   "metadata": {},
   "source": [
    "Ans.A \"While\" Loop is used to repeat a specific block of code an unknown number of times, until a condition is met. For example, if we want to ask a user for a number between 1 and 10, we don't know how many times the user may enter a larger number, so we keep asking \"while the number is not between 1 and 10\"."
   ]
  },
  {
   "cell_type": "raw",
   "id": "6c74947a-e3b0-4ad4-9739-d98672eb28af",
   "metadata": {},
   "source": [
    "Q.6 Use nested while loop to print 3 different pattern\n"
   ]
  },
  {
   "cell_type": "code",
   "execution_count": 17,
   "id": "d905e08a-393c-4a04-b992-0f1b6dd93277",
   "metadata": {},
   "outputs": [
    {
     "name": "stdout",
     "output_type": "stream",
     "text": [
      "1 \n",
      "2 2 \n",
      "3 3 3 \n",
      "4 4 4 4 \n",
      "5 5 5 5 5 \n"
     ]
    }
   ],
   "source": [
    "rows = 5\n",
    "i = 1\n",
    "while i <= rows:\n",
    "    j = 1\n",
    "    while j <= i:\n",
    "        print((i ), end=\" \")\n",
    "        j = j + 1\n",
    "    i = i + 1\n",
    "    print('')"
   ]
  },
  {
   "cell_type": "code",
   "execution_count": 19,
   "id": "1e4cbad5-c485-4a38-a61e-f70aea9bb051",
   "metadata": {},
   "outputs": [
    {
     "name": "stdout",
     "output_type": "stream",
     "text": [
      "* \n",
      "* * \n",
      "* * * \n",
      "* * * * \n",
      "* * * * * \n",
      "* * * * * * \n"
     ]
    }
   ],
   "source": [
    "rows = 6\n",
    "i = 1\n",
    "while i <= rows:\n",
    "    j = 1\n",
    "    while j <= i:\n",
    "        print(('*'), end=\" \")\n",
    "        j = j + 1\n",
    "    i = i + 1\n",
    "    print('')"
   ]
  },
  {
   "cell_type": "code",
   "execution_count": 21,
   "id": "ae6def86-0d53-4d09-ab58-60cc7f07018a",
   "metadata": {},
   "outputs": [
    {
     "name": "stdout",
     "output_type": "stream",
     "text": [
      "* * * * * \n",
      "* * * * \n",
      "* * * \n",
      "* * \n",
      "* \n"
     ]
    }
   ],
   "source": [
    "rows = 5\n",
    "i = 1\n",
    "while i <= rows:\n",
    "    j = 5\n",
    "    while j >= i:\n",
    "        print(('*'), end=\" \")\n",
    "        j = j - 1\n",
    "    i = i + 1\n",
    "    print('')"
   ]
  },
  {
   "cell_type": "raw",
   "id": "7487fff0-7ff7-425b-94ce-7b7ecf570e33",
   "metadata": {},
   "source": [
    "Q.7 reverse while loop to display 10 to 1"
   ]
  },
  {
   "cell_type": "code",
   "execution_count": 22,
   "id": "4dfdb020-34d6-458d-89f8-6cbc64136fbf",
   "metadata": {},
   "outputs": [
    {
     "name": "stdout",
     "output_type": "stream",
     "text": [
      "10\n",
      "9\n",
      "8\n",
      "7\n",
      "6\n",
      "5\n",
      "4\n",
      "3\n",
      "2\n",
      "1\n"
     ]
    }
   ],
   "source": [
    "num=10\n",
    "while num>0:\n",
    "    print(num)\n",
    "    num= num-1"
   ]
  },
  {
   "cell_type": "raw",
   "id": "a80abf48-d817-46f1-99d7-9ab874d7649d",
   "metadata": {},
   "source": [
    "Q.reverse while loop to display 1 to 10"
   ]
  },
  {
   "cell_type": "code",
   "execution_count": 24,
   "id": "dff27913-edfd-47f8-909d-32441489b994",
   "metadata": {},
   "outputs": [
    {
     "name": "stdout",
     "output_type": "stream",
     "text": [
      "1\n",
      "2\n",
      "3\n",
      "4\n",
      "5\n",
      "6\n",
      "7\n",
      "8\n",
      "9\n",
      "10\n"
     ]
    }
   ],
   "source": [
    "num=1\n",
    "while num<=10:\n",
    "    print(num)\n",
    "    num= num+1"
   ]
  },
  {
   "cell_type": "code",
   "execution_count": null,
   "id": "4e56c368-8d05-4a3d-94fe-5bbaf71fc454",
   "metadata": {},
   "outputs": [],
   "source": []
  }
 ],
 "metadata": {
  "kernelspec": {
   "display_name": "Python 3 (ipykernel)",
   "language": "python",
   "name": "python3"
  },
  "language_info": {
   "codemirror_mode": {
    "name": "ipython",
    "version": 3
   },
   "file_extension": ".py",
   "mimetype": "text/x-python",
   "name": "python",
   "nbconvert_exporter": "python",
   "pygments_lexer": "ipython3",
   "version": "3.10.8"
  }
 },
 "nbformat": 4,
 "nbformat_minor": 5
}
